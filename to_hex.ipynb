{
 "cells": [
  {
   "cell_type": "markdown",
   "id": "e0bfb3e0",
   "metadata": {},
   "source": [
    "# Task 1"
   ]
  },
  {
   "cell_type": "code",
   "execution_count": 36,
   "id": "9394d292",
   "metadata": {},
   "outputs": [
    {
     "data": {
      "text/plain": [
       "'0xa'"
      ]
     },
     "execution_count": 36,
     "metadata": {},
     "output_type": "execute_result"
    }
   ],
   "source": [
    "hex(10)"
   ]
  },
  {
   "cell_type": "code",
   "execution_count": 37,
   "id": "7601ac00",
   "metadata": {},
   "outputs": [
    {
     "data": {
      "text/plain": [
       "'0xff'"
      ]
     },
     "execution_count": 37,
     "metadata": {},
     "output_type": "execute_result"
    }
   ],
   "source": [
    "hex(255)"
   ]
  },
  {
   "cell_type": "code",
   "execution_count": 11,
   "id": "ccf09394",
   "metadata": {},
   "outputs": [
    {
     "name": "stdout",
     "output_type": "stream",
     "text": [
      "['0', '1', '2', '3', '4', '5', '6', '7', '8', '9', 'a', 'b', 'c', 'd', 'e', 'f', '10', '11', '12', '13', '14', '15', '16', '17', '18', '19', '1a', '1b', '1c', '1d', '1e', '1f', '20', '21', '22', '23', '24', '25', '26', '27', '28', '29', '2a', '2b', '2c', '2d', '2e', '2f', '30', '31', '32', '33', '34', '35', '36', '37', '38', '39', '3a', '3b', '3c', '3d', '3e', '3f', '40', '41', '42', '43', '44', '45', '46', '47', '48', '49', '4a', '4b', '4c', '4d', '4e', '4f', '50', '51', '52', '53', '54', '55', '56', '57', '58', '59', '5a', '5b', '5c', '5d', '5e', '5f', '60', '61', '62', '63', '64', '65', '66', '67', '68', '69', '6a', '6b', '6c', '6d', '6e', '6f', '70', '71', '72', '73', '74', '75', '76', '77', '78', '79', '7a', '7b', '7c', '7d', '7e', '7f', '80', '81', '82', '83', '84', '85', '86', '87', '88', '89', '8a', '8b', '8c', '8d', '8e', '8f', '90', '91', '92', '93', '94', '95', '96', '97', '98', '99', '9a', '9b', '9c', '9d', '9e', '9f', 'a0', 'a1', 'a2', 'a3', 'a4', 'a5', 'a6', 'a7', 'a8', 'a9', 'aa', 'ab', 'ac', 'ad', 'ae', 'af', 'b0', 'b1', 'b2', 'b3', 'b4', 'b5', 'b6', 'b7', 'b8', 'b9', 'ba', 'bb', 'bc', 'bd', 'be', 'bf', 'c0', 'c1', 'c2', 'c3', 'c4', 'c5', 'c6', 'c7', 'c8', 'c9', 'ca', 'cb', 'cc', 'cd', 'ce', 'cf', 'd0', 'd1', 'd2', 'd3', 'd4', 'd5', 'd6', 'd7', 'd8', 'd9', 'da', 'db', 'dc', 'dd', 'de', 'df', 'e0', 'e1', 'e2', 'e3', 'e4', 'e5', 'e6', 'e7', 'e8', 'e9', 'ea', 'eb', 'ec', 'ed', 'ee', 'ef', 'f0', 'f1', 'f2', 'f3', 'f4', 'f5', 'f6', 'f7', 'f8', 'f9', 'fa', 'fb', 'fc', 'fd', 'fe', 'ff']\n"
     ]
    }
   ],
   "source": [
    "col1 = ['','1','2','3','4','5','6','7','8','9','a','b','c','d','e','f']\n",
    "col2 = ['0','1','2','3','4','5','6','7','8','9','a','b','c','d','e','f']\n",
    "hexs=[]\n",
    "for num1 in col1:\n",
    "    for num2 in col2:\n",
    "        hexs.append(num1+num2)\n",
    "print(hexs)"
   ]
  },
  {
   "cell_type": "code",
   "execution_count": 12,
   "id": "24c4b763",
   "metadata": {},
   "outputs": [],
   "source": [
    "def to_hex(n):\n",
    "    \n",
    "    #converts a decimal number to hexidecimal\n",
    "    \n",
    "    col1 = ['','1','2','3','4','5','6','7','8','9','a','b','c','d','e','f']\n",
    "    col2 = ['0','1','2','3','4','5','6','7','8','9','a','b','c','d','e','f']\n",
    "    hexs=[]\n",
    "    for num1 in col1:\n",
    "        for num2 in col2:\n",
    "            hexs.append(num1+num2)\n",
    "    print(hexs[n])"
   ]
  },
  {
   "cell_type": "code",
   "execution_count": 13,
   "id": "f0db0e91",
   "metadata": {},
   "outputs": [
    {
     "name": "stdout",
     "output_type": "stream",
     "text": [
      "0\n"
     ]
    }
   ],
   "source": [
    "to_hex(0)"
   ]
  },
  {
   "cell_type": "code",
   "execution_count": 14,
   "id": "97c325ef",
   "metadata": {},
   "outputs": [
    {
     "name": "stdout",
     "output_type": "stream",
     "text": [
      "a\n"
     ]
    }
   ],
   "source": [
    "to_hex(10)"
   ]
  },
  {
   "cell_type": "code",
   "execution_count": 15,
   "id": "c636997c",
   "metadata": {},
   "outputs": [
    {
     "name": "stdout",
     "output_type": "stream",
     "text": [
      "20\n"
     ]
    }
   ],
   "source": [
    "to_hex(32)"
   ]
  },
  {
   "cell_type": "code",
   "execution_count": 16,
   "id": "48bebc8c",
   "metadata": {},
   "outputs": [
    {
     "name": "stdout",
     "output_type": "stream",
     "text": [
      "2d\n"
     ]
    }
   ],
   "source": [
    "to_hex(45)"
   ]
  },
  {
   "cell_type": "code",
   "execution_count": 17,
   "id": "eeb67f3c",
   "metadata": {},
   "outputs": [
    {
     "name": "stdout",
     "output_type": "stream",
     "text": [
      "ff\n"
     ]
    }
   ],
   "source": [
    "to_hex(255)"
   ]
  },
  {
   "cell_type": "markdown",
   "id": "0e98ce3d",
   "metadata": {},
   "source": [
    "# Task 2"
   ]
  },
  {
   "cell_type": "code",
   "execution_count": 28,
   "id": "414da0d3",
   "metadata": {},
   "outputs": [
    {
     "data": {
      "text/plain": [
       "'0xff'"
      ]
     },
     "execution_count": 28,
     "metadata": {},
     "output_type": "execute_result"
    }
   ],
   "source": [
    "hex(10)\n",
    "hex(32)\n",
    "hex(255)"
   ]
  },
  {
   "cell_type": "code",
   "execution_count": 32,
   "id": "4e6e443a",
   "metadata": {},
   "outputs": [],
   "source": [
    "col1 = ['0','1','2','3','4','5','6','7','8','9','a','b','c','d','e','f']\n",
    "col2 = ['0','1','2','3','4','5','6','7','8','9','a','b','c','d','e','f']\n",
    "hex_zeros=[]\n",
    "for num1 in col1:\n",
    "    for num2 in col2:\n",
    "        hex_zeros.append(num1+num2)"
   ]
  },
  {
   "cell_type": "code",
   "execution_count": 33,
   "id": "bba01988",
   "metadata": {},
   "outputs": [
    {
     "data": {
      "text/plain": [
       "['00',\n",
       " '01',\n",
       " '02',\n",
       " '03',\n",
       " '04',\n",
       " '05',\n",
       " '06',\n",
       " '07',\n",
       " '08',\n",
       " '09',\n",
       " '0a',\n",
       " '0b',\n",
       " '0c',\n",
       " '0d',\n",
       " '0e',\n",
       " '0f',\n",
       " '10',\n",
       " '11',\n",
       " '12',\n",
       " '13',\n",
       " '14',\n",
       " '15',\n",
       " '16',\n",
       " '17',\n",
       " '18',\n",
       " '19',\n",
       " '1a',\n",
       " '1b',\n",
       " '1c',\n",
       " '1d',\n",
       " '1e',\n",
       " '1f',\n",
       " '20',\n",
       " '21',\n",
       " '22',\n",
       " '23',\n",
       " '24',\n",
       " '25',\n",
       " '26',\n",
       " '27',\n",
       " '28',\n",
       " '29',\n",
       " '2a',\n",
       " '2b',\n",
       " '2c',\n",
       " '2d',\n",
       " '2e',\n",
       " '2f',\n",
       " '30',\n",
       " '31',\n",
       " '32',\n",
       " '33',\n",
       " '34',\n",
       " '35',\n",
       " '36',\n",
       " '37',\n",
       " '38',\n",
       " '39',\n",
       " '3a',\n",
       " '3b',\n",
       " '3c',\n",
       " '3d',\n",
       " '3e',\n",
       " '3f',\n",
       " '40',\n",
       " '41',\n",
       " '42',\n",
       " '43',\n",
       " '44',\n",
       " '45',\n",
       " '46',\n",
       " '47',\n",
       " '48',\n",
       " '49',\n",
       " '4a',\n",
       " '4b',\n",
       " '4c',\n",
       " '4d',\n",
       " '4e',\n",
       " '4f',\n",
       " '50',\n",
       " '51',\n",
       " '52',\n",
       " '53',\n",
       " '54',\n",
       " '55',\n",
       " '56',\n",
       " '57',\n",
       " '58',\n",
       " '59',\n",
       " '5a',\n",
       " '5b',\n",
       " '5c',\n",
       " '5d',\n",
       " '5e',\n",
       " '5f',\n",
       " '60',\n",
       " '61',\n",
       " '62',\n",
       " '63',\n",
       " '64',\n",
       " '65',\n",
       " '66',\n",
       " '67',\n",
       " '68',\n",
       " '69',\n",
       " '6a',\n",
       " '6b',\n",
       " '6c',\n",
       " '6d',\n",
       " '6e',\n",
       " '6f',\n",
       " '70',\n",
       " '71',\n",
       " '72',\n",
       " '73',\n",
       " '74',\n",
       " '75',\n",
       " '76',\n",
       " '77',\n",
       " '78',\n",
       " '79',\n",
       " '7a',\n",
       " '7b',\n",
       " '7c',\n",
       " '7d',\n",
       " '7e',\n",
       " '7f',\n",
       " '80',\n",
       " '81',\n",
       " '82',\n",
       " '83',\n",
       " '84',\n",
       " '85',\n",
       " '86',\n",
       " '87',\n",
       " '88',\n",
       " '89',\n",
       " '8a',\n",
       " '8b',\n",
       " '8c',\n",
       " '8d',\n",
       " '8e',\n",
       " '8f',\n",
       " '90',\n",
       " '91',\n",
       " '92',\n",
       " '93',\n",
       " '94',\n",
       " '95',\n",
       " '96',\n",
       " '97',\n",
       " '98',\n",
       " '99',\n",
       " '9a',\n",
       " '9b',\n",
       " '9c',\n",
       " '9d',\n",
       " '9e',\n",
       " '9f',\n",
       " 'a0',\n",
       " 'a1',\n",
       " 'a2',\n",
       " 'a3',\n",
       " 'a4',\n",
       " 'a5',\n",
       " 'a6',\n",
       " 'a7',\n",
       " 'a8',\n",
       " 'a9',\n",
       " 'aa',\n",
       " 'ab',\n",
       " 'ac',\n",
       " 'ad',\n",
       " 'ae',\n",
       " 'af',\n",
       " 'b0',\n",
       " 'b1',\n",
       " 'b2',\n",
       " 'b3',\n",
       " 'b4',\n",
       " 'b5',\n",
       " 'b6',\n",
       " 'b7',\n",
       " 'b8',\n",
       " 'b9',\n",
       " 'ba',\n",
       " 'bb',\n",
       " 'bc',\n",
       " 'bd',\n",
       " 'be',\n",
       " 'bf',\n",
       " 'c0',\n",
       " 'c1',\n",
       " 'c2',\n",
       " 'c3',\n",
       " 'c4',\n",
       " 'c5',\n",
       " 'c6',\n",
       " 'c7',\n",
       " 'c8',\n",
       " 'c9',\n",
       " 'ca',\n",
       " 'cb',\n",
       " 'cc',\n",
       " 'cd',\n",
       " 'ce',\n",
       " 'cf',\n",
       " 'd0',\n",
       " 'd1',\n",
       " 'd2',\n",
       " 'd3',\n",
       " 'd4',\n",
       " 'd5',\n",
       " 'd6',\n",
       " 'd7',\n",
       " 'd8',\n",
       " 'd9',\n",
       " 'da',\n",
       " 'db',\n",
       " 'dc',\n",
       " 'dd',\n",
       " 'de',\n",
       " 'df',\n",
       " 'e0',\n",
       " 'e1',\n",
       " 'e2',\n",
       " 'e3',\n",
       " 'e4',\n",
       " 'e5',\n",
       " 'e6',\n",
       " 'e7',\n",
       " 'e8',\n",
       " 'e9',\n",
       " 'ea',\n",
       " 'eb',\n",
       " 'ec',\n",
       " 'ed',\n",
       " 'ee',\n",
       " 'ef',\n",
       " 'f0',\n",
       " 'f1',\n",
       " 'f2',\n",
       " 'f3',\n",
       " 'f4',\n",
       " 'f5',\n",
       " 'f6',\n",
       " 'f7',\n",
       " 'f8',\n",
       " 'f9',\n",
       " 'fa',\n",
       " 'fb',\n",
       " 'fc',\n",
       " 'fd',\n",
       " 'fe',\n",
       " 'ff']"
      ]
     },
     "execution_count": 33,
     "metadata": {},
     "output_type": "execute_result"
    }
   ],
   "source": [
    "hex_zeros"
   ]
  },
  {
   "cell_type": "code",
   "execution_count": 34,
   "id": "49a1ba3c",
   "metadata": {},
   "outputs": [],
   "source": [
    "def hex_color(red,green,blue):\n",
    "    \n",
    "    #takes numbers from 0 to 255 for the amounts of red, green, and blue light that make up a color,\n",
    "    #and return the corresponding hex code\n",
    "    \n",
    "    print(f'#{hex_zeros[red]}{hex_zeros[green]}{hex_zeros[blue]}')\n",
    "    \n"
   ]
  },
  {
   "cell_type": "code",
   "execution_count": 35,
   "id": "fe188473",
   "metadata": {},
   "outputs": [
    {
     "name": "stdout",
     "output_type": "stream",
     "text": [
      "#0a20ff\n"
     ]
    }
   ],
   "source": [
    "hex_color(10,32,255)"
   ]
  },
  {
   "cell_type": "code",
   "execution_count": 38,
   "id": "9f09df62",
   "metadata": {},
   "outputs": [
    {
     "name": "stdout",
     "output_type": "stream",
     "text": [
      "#20ff10\n"
     ]
    }
   ],
   "source": [
    "hex_color(32,255,16)"
   ]
  },
  {
   "cell_type": "code",
   "execution_count": null,
   "id": "1466d00c",
   "metadata": {},
   "outputs": [],
   "source": []
  }
 ],
 "metadata": {
  "kernelspec": {
   "display_name": "Python 3 (ipykernel)",
   "language": "python",
   "name": "python3"
  },
  "language_info": {
   "codemirror_mode": {
    "name": "ipython",
    "version": 3
   },
   "file_extension": ".py",
   "mimetype": "text/x-python",
   "name": "python",
   "nbconvert_exporter": "python",
   "pygments_lexer": "ipython3",
   "version": "3.9.6"
  }
 },
 "nbformat": 4,
 "nbformat_minor": 5
}
