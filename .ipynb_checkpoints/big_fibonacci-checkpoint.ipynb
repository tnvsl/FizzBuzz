{
 "cells": [
  {
   "cell_type": "code",
   "execution_count": 26,
   "id": "929d1b5d",
   "metadata": {},
   "outputs": [],
   "source": [
    "seq = [1, 1]\n",
    "for num in range(10):\n",
    "    seq.append(seq[-1]+seq[-2])"
   ]
  },
  {
   "cell_type": "code",
   "execution_count": 27,
   "id": "a0bcaf51",
   "metadata": {},
   "outputs": [
    {
     "data": {
      "text/plain": [
       "[1, 1, 2, 3, 5, 8, 13, 21, 34, 55, 89, 144]"
      ]
     },
     "execution_count": 27,
     "metadata": {},
     "output_type": "execute_result"
    }
   ],
   "source": [
    "seq"
   ]
  },
  {
   "cell_type": "code",
   "execution_count": 6,
   "id": "d651f7a3",
   "metadata": {},
   "outputs": [
    {
     "data": {
      "text/plain": [
       "30"
      ]
     },
     "execution_count": 6,
     "metadata": {},
     "output_type": "execute_result"
    }
   ],
   "source": [
    "len('131151201344081895336534324866')"
   ]
  },
  {
   "cell_type": "code",
   "execution_count": 7,
   "id": "1914088b",
   "metadata": {},
   "outputs": [
    {
     "data": {
      "text/plain": [
       "1"
      ]
     },
     "execution_count": 7,
     "metadata": {},
     "output_type": "execute_result"
    }
   ],
   "source": [
    "len(str(5))"
   ]
  },
  {
   "cell_type": "code",
   "execution_count": 18,
   "id": "278052f3",
   "metadata": {},
   "outputs": [],
   "source": [
    "def big_fibonacci(n):\n",
    "    seq = [1, 1]\n",
    "    for num in seq:\n",
    "        if len(str(num)) == n:\n",
    "            return num\n",
    "        else:\n",
    "            seq.append(seq[-1]+seq[-2])"
   ]
  },
  {
   "cell_type": "code",
   "execution_count": 20,
   "id": "52c116b4",
   "metadata": {},
   "outputs": [
    {
     "data": {
      "text/plain": [
       "1"
      ]
     },
     "execution_count": 20,
     "metadata": {},
     "output_type": "execute_result"
    }
   ],
   "source": [
    "big_fibonacci(1)"
   ]
  },
  {
   "cell_type": "code",
   "execution_count": 21,
   "id": "c6ab6cf8",
   "metadata": {},
   "outputs": [
    {
     "data": {
      "text/plain": [
       "13"
      ]
     },
     "execution_count": 21,
     "metadata": {},
     "output_type": "execute_result"
    }
   ],
   "source": [
    "big_fibonacci(2)"
   ]
  },
  {
   "cell_type": "code",
   "execution_count": 22,
   "id": "49ae4fdf",
   "metadata": {},
   "outputs": [
    {
     "data": {
      "text/plain": [
       "144"
      ]
     },
     "execution_count": 22,
     "metadata": {},
     "output_type": "execute_result"
    }
   ],
   "source": [
    "big_fibonacci(3)"
   ]
  },
  {
   "cell_type": "code",
   "execution_count": 23,
   "id": "e0bb2ad2",
   "metadata": {},
   "outputs": [
    {
     "data": {
      "text/plain": [
       "10946"
      ]
     },
     "execution_count": 23,
     "metadata": {},
     "output_type": "execute_result"
    }
   ],
   "source": [
    "big_fibonacci(5)"
   ]
  },
  {
   "cell_type": "code",
   "execution_count": 25,
   "id": "459dcf7e",
   "metadata": {},
   "outputs": [
    {
     "data": {
      "text/plain": [
       "131151201344081895336534324866"
      ]
     },
     "execution_count": 25,
     "metadata": {},
     "output_type": "execute_result"
    }
   ],
   "source": [
    "big_fibonacci(30)"
   ]
  },
  {
   "cell_type": "code",
   "execution_count": null,
   "id": "5b0728bd",
   "metadata": {},
   "outputs": [],
   "source": []
  }
 ],
 "metadata": {
  "kernelspec": {
   "display_name": "Python 3 (ipykernel)",
   "language": "python",
   "name": "python3"
  },
  "language_info": {
   "codemirror_mode": {
    "name": "ipython",
    "version": 3
   },
   "file_extension": ".py",
   "mimetype": "text/x-python",
   "name": "python",
   "nbconvert_exporter": "python",
   "pygments_lexer": "ipython3",
   "version": "3.9.6"
  }
 },
 "nbformat": 4,
 "nbformat_minor": 5
}
