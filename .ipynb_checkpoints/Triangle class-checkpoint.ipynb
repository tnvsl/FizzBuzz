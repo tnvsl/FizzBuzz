{
 "cells": [
  {
   "cell_type": "code",
   "execution_count": 1,
   "id": "a2b7021b",
   "metadata": {},
   "outputs": [],
   "source": [
    "import math"
   ]
  },
  {
   "cell_type": "code",
   "execution_count": 2,
   "id": "9ff099ad",
   "metadata": {},
   "outputs": [],
   "source": [
    "class Triangle():\n",
    "    \n",
    "    \n",
    "    def __init__(self, a, b, c):\n",
    "        self.a = a\n",
    "        self.b = b\n",
    "        self.c = c\n",
    "        \n",
    "    def perimeter(self):\n",
    "        return self.a+self.b+self.c\n",
    "    \n",
    "    def area(self):\n",
    "        s = (self.a + self.b + self.c)/2\n",
    "        return int(math.sqrt(s*(s-self.a)*(s-self.b)*(s-self.c)))\n",
    "    \n",
    "    def scale(self, scale_factor):\n",
    "        return Triangle(scale_factor*self.a, scale_factor*self.b, scale_factor*self.c)\n",
    "    \n",
    "    def is_valid(self):\n",
    "        if self.a+self.b>self.c: \n",
    "            if self.a+self.c>self.b:\n",
    "                if self.b+self.c>self.a:\n",
    "                    return True\n",
    "        else:\n",
    "            return False\n",
    "        \n",
    "    def is_right(self):\n",
    "        if (self.a**2) + (self.b**2)==self.c**2:\n",
    "            return True\n",
    "        else:\n",
    "            return False"
   ]
  },
  {
   "cell_type": "code",
   "execution_count": 3,
   "id": "3bf5cb39",
   "metadata": {},
   "outputs": [],
   "source": [
    "t = Triangle(4,13,15)"
   ]
  },
  {
   "cell_type": "code",
   "execution_count": 4,
   "id": "39871ef3",
   "metadata": {},
   "outputs": [
    {
     "data": {
      "text/plain": [
       "32"
      ]
     },
     "execution_count": 4,
     "metadata": {},
     "output_type": "execute_result"
    }
   ],
   "source": [
    "t.perimeter()"
   ]
  },
  {
   "cell_type": "code",
   "execution_count": 5,
   "id": "433d1132",
   "metadata": {},
   "outputs": [
    {
     "data": {
      "text/plain": [
       "24"
      ]
     },
     "execution_count": 5,
     "metadata": {},
     "output_type": "execute_result"
    }
   ],
   "source": [
    "t.area()"
   ]
  },
  {
   "cell_type": "code",
   "execution_count": 6,
   "id": "e8199c7b",
   "metadata": {},
   "outputs": [
    {
     "data": {
      "text/plain": [
       "(12, 39, 45)"
      ]
     },
     "execution_count": 6,
     "metadata": {},
     "output_type": "execute_result"
    }
   ],
   "source": [
    "q = t.scale(3)\n",
    "q.a, q.b, q.c"
   ]
  },
  {
   "cell_type": "code",
   "execution_count": 7,
   "id": "9f7f614f",
   "metadata": {},
   "outputs": [
    {
     "data": {
      "text/plain": [
       "True"
      ]
     },
     "execution_count": 7,
     "metadata": {},
     "output_type": "execute_result"
    }
   ],
   "source": [
    "t.is_valid()"
   ]
  },
  {
   "cell_type": "code",
   "execution_count": 8,
   "id": "55c8e33b",
   "metadata": {},
   "outputs": [],
   "source": [
    "f = Triangle(5,4,10)"
   ]
  },
  {
   "cell_type": "code",
   "execution_count": 9,
   "id": "455ea0ac",
   "metadata": {},
   "outputs": [
    {
     "data": {
      "text/plain": [
       "False"
      ]
     },
     "execution_count": 9,
     "metadata": {},
     "output_type": "execute_result"
    }
   ],
   "source": [
    "f.is_valid()"
   ]
  },
  {
   "cell_type": "code",
   "execution_count": 10,
   "id": "4fc5f772",
   "metadata": {},
   "outputs": [
    {
     "data": {
      "text/plain": [
       "False"
      ]
     },
     "execution_count": 10,
     "metadata": {},
     "output_type": "execute_result"
    }
   ],
   "source": [
    "t.is_right()"
   ]
  },
  {
   "cell_type": "code",
   "execution_count": 14,
   "id": "1d31dbae",
   "metadata": {},
   "outputs": [],
   "source": [
    "r = Triangle(4, 3, 5)"
   ]
  },
  {
   "cell_type": "code",
   "execution_count": 15,
   "id": "bf6f7e74",
   "metadata": {},
   "outputs": [
    {
     "data": {
      "text/plain": [
       "True"
      ]
     },
     "execution_count": 15,
     "metadata": {},
     "output_type": "execute_result"
    }
   ],
   "source": [
    "r.is_right()"
   ]
  }
 ],
 "metadata": {
  "kernelspec": {
   "display_name": "Python 3 (ipykernel)",
   "language": "python",
   "name": "python3"
  },
  "language_info": {
   "codemirror_mode": {
    "name": "ipython",
    "version": 3
   },
   "file_extension": ".py",
   "mimetype": "text/x-python",
   "name": "python",
   "nbconvert_exporter": "python",
   "pygments_lexer": "ipython3",
   "version": "3.9.6"
  }
 },
 "nbformat": 4,
 "nbformat_minor": 5
}
