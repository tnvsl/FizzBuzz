{
 "cells": [
  {
   "cell_type": "code",
   "execution_count": 1,
   "id": "24e42ccb",
   "metadata": {},
   "outputs": [
    {
     "data": {
      "text/plain": [
       "[0, 1, 2, 3, 4]"
      ]
     },
     "execution_count": 1,
     "metadata": {},
     "output_type": "execute_result"
    }
   ],
   "source": [
    "list(range(5))"
   ]
  },
  {
   "cell_type": "code",
   "execution_count": 2,
   "id": "24ca1a6c",
   "metadata": {},
   "outputs": [
    {
     "data": {
      "text/plain": [
       "[3, 4, 5, 6, 7, 8, 9]"
      ]
     },
     "execution_count": 2,
     "metadata": {},
     "output_type": "execute_result"
    }
   ],
   "source": [
    "list(range(3,10))"
   ]
  },
  {
   "cell_type": "markdown",
   "id": "eb82a224",
   "metadata": {},
   "source": [
    "my_range_1 - takes just 1 argument"
   ]
  },
  {
   "cell_type": "code",
   "execution_count": 3,
   "id": "39148350",
   "metadata": {},
   "outputs": [],
   "source": [
    "def my_range_1(n):\n",
    "    list = []\n",
    "    i = 0\n",
    "    while i < n:\n",
    "        list.append(i)\n",
    "        i += 1\n",
    "    return list"
   ]
  },
  {
   "cell_type": "code",
   "execution_count": 4,
   "id": "8f2726b7",
   "metadata": {},
   "outputs": [
    {
     "data": {
      "text/plain": [
       "[0, 1, 2, 3, 4]"
      ]
     },
     "execution_count": 4,
     "metadata": {},
     "output_type": "execute_result"
    }
   ],
   "source": [
    "my_range_1(5)"
   ]
  },
  {
   "cell_type": "code",
   "execution_count": 5,
   "id": "c902850e",
   "metadata": {},
   "outputs": [
    {
     "data": {
      "text/plain": [
       "[0, 1, 2, 3, 4, 5, 6, 7, 8, 9, 10, 11]"
      ]
     },
     "execution_count": 5,
     "metadata": {},
     "output_type": "execute_result"
    }
   ],
   "source": [
    "my_range_1(12)"
   ]
  },
  {
   "cell_type": "code",
   "execution_count": null,
   "id": "5ca1c898",
   "metadata": {},
   "outputs": [],
   "source": [
    "my_range_2 - takes just 2 argument"
   ]
  },
  {
   "cell_type": "code",
   "execution_count": 6,
   "id": "c1b17843",
   "metadata": {},
   "outputs": [],
   "source": [
    "def my_range_2(m,n):\n",
    "    list = []\n",
    "    while m < n:\n",
    "        list.append(m)\n",
    "        m += 1\n",
    "\n",
    "    return list"
   ]
  },
  {
   "cell_type": "code",
   "execution_count": 7,
   "id": "ccef74ea",
   "metadata": {},
   "outputs": [
    {
     "data": {
      "text/plain": [
       "[3, 4, 5, 6, 7, 8, 9]"
      ]
     },
     "execution_count": 7,
     "metadata": {},
     "output_type": "execute_result"
    }
   ],
   "source": [
    "my_range_2(3,10)"
   ]
  },
  {
   "cell_type": "code",
   "execution_count": null,
   "id": "20cff868",
   "metadata": {},
   "outputs": [],
   "source": [
    "my_range_3 - takes either 1 or 2 arguments"
   ]
  },
  {
   "cell_type": "code",
   "execution_count": 20,
   "id": "377e150a",
   "metadata": {},
   "outputs": [],
   "source": [
    "def my_range_3(n, *m):\n",
    "    list = []\n",
    "    if not m:\n",
    "        i = 0\n",
    "        while i < n:\n",
    "            list.append(i)\n",
    "            i += 1\n",
    "        return list\n",
    "    else:\n",
    "        while n < m[0]:\n",
    "            list.append(n)\n",
    "            n += 1\n",
    "        return list"
   ]
  },
  {
   "cell_type": "code",
   "execution_count": 21,
   "id": "43f37f1b",
   "metadata": {},
   "outputs": [
    {
     "data": {
      "text/plain": [
       "[3, 4, 5, 6, 7, 8, 9]"
      ]
     },
     "execution_count": 21,
     "metadata": {},
     "output_type": "execute_result"
    }
   ],
   "source": [
    "my_range_3(3,10)"
   ]
  },
  {
   "cell_type": "code",
   "execution_count": 22,
   "id": "78e81ea7",
   "metadata": {},
   "outputs": [
    {
     "data": {
      "text/plain": [
       "[0, 1, 2, 3, 4]"
      ]
     },
     "execution_count": 22,
     "metadata": {},
     "output_type": "execute_result"
    }
   ],
   "source": [
    "my_range_3(5)"
   ]
  },
  {
   "cell_type": "code",
   "execution_count": null,
   "id": "059a611e",
   "metadata": {},
   "outputs": [],
   "source": []
  }
 ],
 "metadata": {
  "kernelspec": {
   "display_name": "Python 3 (ipykernel)",
   "language": "python",
   "name": "python3"
  },
  "language_info": {
   "codemirror_mode": {
    "name": "ipython",
    "version": 3
   },
   "file_extension": ".py",
   "mimetype": "text/x-python",
   "name": "python",
   "nbconvert_exporter": "python",
   "pygments_lexer": "ipython3",
   "version": "3.9.6"
  }
 },
 "nbformat": 4,
 "nbformat_minor": 5
}
