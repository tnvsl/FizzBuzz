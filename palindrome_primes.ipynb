{
 "cells": [
  {
   "cell_type": "code",
   "execution_count": 1,
   "id": "89e9d013",
   "metadata": {},
   "outputs": [],
   "source": [
    "def is_prime(x):\n",
    "    prime = []\n",
    "    for num in range(1, x+1):\n",
    "        if x % num ==0:\n",
    "            prime.append(num)\n",
    "    if len(prime) == 2:\n",
    "        return True\n",
    "    else:\n",
    "        return False"
   ]
  },
  {
   "cell_type": "code",
   "execution_count": 2,
   "id": "5e2aa859",
   "metadata": {},
   "outputs": [],
   "source": [
    "def palindrome_primes():\n",
    "    a=10000 \n",
    "    b=100000\n",
    "    prime_palindrome =[]\n",
    "    for x in range(a,b):\n",
    "        if (x // 10000 == x % 10) and (x // 1000 % 10 == x % 100 // 10):\n",
    "            if is_prime(x) == True:\n",
    "                prime_palindrome.append(x)\n",
    "    return prime_palindrome"
   ]
  },
  {
   "cell_type": "code",
   "execution_count": 3,
   "id": "0dc331da",
   "metadata": {},
   "outputs": [
    {
     "name": "stdout",
     "output_type": "stream",
     "text": [
      "CPU times: user 4.39 s, sys: 19.8 ms, total: 4.41 s\n",
      "Wall time: 4.44 s\n"
     ]
    },
    {
     "data": {
      "text/plain": [
       "[10301,\n",
       " 10501,\n",
       " 10601,\n",
       " 11311,\n",
       " 11411,\n",
       " 12421,\n",
       " 12721,\n",
       " 12821,\n",
       " 13331,\n",
       " 13831,\n",
       " 13931,\n",
       " 14341,\n",
       " 14741,\n",
       " 15451,\n",
       " 15551,\n",
       " 16061,\n",
       " 16361,\n",
       " 16561,\n",
       " 16661,\n",
       " 17471,\n",
       " 17971,\n",
       " 18181,\n",
       " 18481,\n",
       " 19391,\n",
       " 19891,\n",
       " 19991,\n",
       " 30103,\n",
       " 30203,\n",
       " 30403,\n",
       " 30703,\n",
       " 30803,\n",
       " 31013,\n",
       " 31513,\n",
       " 32323,\n",
       " 32423,\n",
       " 33533,\n",
       " 34543,\n",
       " 34843,\n",
       " 35053,\n",
       " 35153,\n",
       " 35353,\n",
       " 35753,\n",
       " 36263,\n",
       " 36563,\n",
       " 37273,\n",
       " 37573,\n",
       " 38083,\n",
       " 38183,\n",
       " 38783,\n",
       " 39293,\n",
       " 70207,\n",
       " 70507,\n",
       " 70607,\n",
       " 71317,\n",
       " 71917,\n",
       " 72227,\n",
       " 72727,\n",
       " 73037,\n",
       " 73237,\n",
       " 73637,\n",
       " 74047,\n",
       " 74747,\n",
       " 75557,\n",
       " 76367,\n",
       " 76667,\n",
       " 77377,\n",
       " 77477,\n",
       " 77977,\n",
       " 78487,\n",
       " 78787,\n",
       " 78887,\n",
       " 79397,\n",
       " 79697,\n",
       " 79997,\n",
       " 90709,\n",
       " 91019,\n",
       " 93139,\n",
       " 93239,\n",
       " 93739,\n",
       " 94049,\n",
       " 94349,\n",
       " 94649,\n",
       " 94849,\n",
       " 94949,\n",
       " 95959,\n",
       " 96269,\n",
       " 96469,\n",
       " 96769,\n",
       " 97379,\n",
       " 97579,\n",
       " 97879,\n",
       " 98389,\n",
       " 98689]"
      ]
     },
     "execution_count": 3,
     "metadata": {},
     "output_type": "execute_result"
    }
   ],
   "source": [
    "%time palindrome_primes()\n",
    "palindrome_primes()"
   ]
  },
  {
   "cell_type": "code",
   "execution_count": null,
   "id": "40b91a73",
   "metadata": {},
   "outputs": [],
   "source": []
  }
 ],
 "metadata": {
  "kernelspec": {
   "display_name": "Python 3 (ipykernel)",
   "language": "python",
   "name": "python3"
  },
  "language_info": {
   "codemirror_mode": {
    "name": "ipython",
    "version": 3
   },
   "file_extension": ".py",
   "mimetype": "text/x-python",
   "name": "python",
   "nbconvert_exporter": "python",
   "pygments_lexer": "ipython3",
   "version": "3.9.6"
  }
 },
 "nbformat": 4,
 "nbformat_minor": 5
}
