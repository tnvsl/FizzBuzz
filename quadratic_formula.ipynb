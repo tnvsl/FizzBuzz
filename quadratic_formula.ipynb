{
 "cells": [
  {
   "cell_type": "markdown",
   "id": "1294f5fb",
   "metadata": {},
   "source": [
    "Quadratic equation = ax^2 + bx + c = 0\n",
    "    "
   ]
  },
  {
   "cell_type": "code",
   "execution_count": 1,
   "id": "87761aea",
   "metadata": {},
   "outputs": [],
   "source": [
    "from math import sqrt"
   ]
  },
  {
   "cell_type": "code",
   "execution_count": 2,
   "id": "92f2d1f7",
   "metadata": {},
   "outputs": [],
   "source": [
    "def solve_quadratic(a,b,c):\n",
    "    d = b**2 - 4*a*c\n",
    "    if d<0:\n",
    "        return None\n",
    "    x1 = (-b+sqrt(d))/2*a\n",
    "    x2 = (-b-sqrt(d))/2*a\n",
    "    if x1 == x2:\n",
    "        return(int(x1))\n",
    "    else:\n",
    "        return (int(x1),int(x2))"
   ]
  },
  {
   "cell_type": "code",
   "execution_count": 3,
   "id": "9a62af4f",
   "metadata": {},
   "outputs": [
    {
     "data": {
      "text/plain": [
       "(3, 2)"
      ]
     },
     "execution_count": 3,
     "metadata": {},
     "output_type": "execute_result"
    }
   ],
   "source": [
    "solve_quadratic(1,-5,6)"
   ]
  },
  {
   "cell_type": "code",
   "execution_count": 4,
   "id": "05c93306",
   "metadata": {},
   "outputs": [
    {
     "data": {
      "text/plain": [
       "-2"
      ]
     },
     "execution_count": 4,
     "metadata": {},
     "output_type": "execute_result"
    }
   ],
   "source": [
    "solve_quadratic(1,4,4)"
   ]
  },
  {
   "cell_type": "code",
   "execution_count": 5,
   "id": "c64a2387",
   "metadata": {},
   "outputs": [],
   "source": [
    "solve_quadratic(1,0,1)"
   ]
  }
 ],
 "metadata": {
  "kernelspec": {
   "display_name": "Python 3 (ipykernel)",
   "language": "python",
   "name": "python3"
  },
  "language_info": {
   "codemirror_mode": {
    "name": "ipython",
    "version": 3
   },
   "file_extension": ".py",
   "mimetype": "text/x-python",
   "name": "python",
   "nbconvert_exporter": "python",
   "pygments_lexer": "ipython3",
   "version": "3.9.6"
  }
 },
 "nbformat": 4,
 "nbformat_minor": 5
}
