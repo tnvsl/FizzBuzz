{
 "cells": [
  {
   "cell_type": "code",
   "execution_count": 11,
   "id": "846f34e2",
   "metadata": {},
   "outputs": [],
   "source": [
    "def prime_check(x):\n",
    "    prime = []\n",
    "    for num in range(1, x+1):\n",
    "        if x % num ==0:\n",
    "            prime.append(num)\n",
    "    return prime"
   ]
  },
  {
   "cell_type": "code",
   "execution_count": 12,
   "id": "0d219f03",
   "metadata": {},
   "outputs": [
    {
     "data": {
      "text/plain": [
       "[1, 5]"
      ]
     },
     "execution_count": 12,
     "metadata": {},
     "output_type": "execute_result"
    }
   ],
   "source": [
    "prime_check(5)"
   ]
  },
  {
   "cell_type": "code",
   "execution_count": 13,
   "id": "d4f03aeb",
   "metadata": {},
   "outputs": [
    {
     "data": {
      "text/plain": [
       "[1, 2, 5, 10]"
      ]
     },
     "execution_count": 13,
     "metadata": {},
     "output_type": "execute_result"
    }
   ],
   "source": [
    "prime_check(10)"
   ]
  },
  {
   "cell_type": "code",
   "execution_count": 6,
   "id": "cfbdfb15",
   "metadata": {},
   "outputs": [],
   "source": [
    "def is_prime(x):\n",
    "    prime = []\n",
    "    for num in range(1, x+1):\n",
    "        if x % num ==0:\n",
    "            prime.append(num)\n",
    "    if len(prime) == 2:\n",
    "        return True\n",
    "    else:\n",
    "        return False"
   ]
  },
  {
   "cell_type": "code",
   "execution_count": 7,
   "id": "d00cdb53",
   "metadata": {},
   "outputs": [
    {
     "data": {
      "text/plain": [
       "True"
      ]
     },
     "execution_count": 7,
     "metadata": {},
     "output_type": "execute_result"
    }
   ],
   "source": [
    "is_prime(5)"
   ]
  },
  {
   "cell_type": "code",
   "execution_count": 8,
   "id": "bd37de9d",
   "metadata": {},
   "outputs": [
    {
     "data": {
      "text/plain": [
       "True"
      ]
     },
     "execution_count": 8,
     "metadata": {},
     "output_type": "execute_result"
    }
   ],
   "source": [
    "is_prime(17)"
   ]
  },
  {
   "cell_type": "code",
   "execution_count": 9,
   "id": "a5145e77",
   "metadata": {},
   "outputs": [
    {
     "data": {
      "text/plain": [
       "False"
      ]
     },
     "execution_count": 9,
     "metadata": {},
     "output_type": "execute_result"
    }
   ],
   "source": [
    "is_prime(1)"
   ]
  },
  {
   "cell_type": "code",
   "execution_count": 10,
   "id": "10adf778",
   "metadata": {},
   "outputs": [
    {
     "data": {
      "text/plain": [
       "False"
      ]
     },
     "execution_count": 10,
     "metadata": {},
     "output_type": "execute_result"
    }
   ],
   "source": [
    "is_prime(12)"
   ]
  },
  {
   "cell_type": "code",
   "execution_count": null,
   "id": "0539f420",
   "metadata": {},
   "outputs": [],
   "source": []
  }
 ],
 "metadata": {
  "kernelspec": {
   "display_name": "Python 3 (ipykernel)",
   "language": "python",
   "name": "python3"
  },
  "language_info": {
   "codemirror_mode": {
    "name": "ipython",
    "version": 3
   },
   "file_extension": ".py",
   "mimetype": "text/x-python",
   "name": "python",
   "nbconvert_exporter": "python",
   "pygments_lexer": "ipython3",
   "version": "3.9.6"
  }
 },
 "nbformat": 4,
 "nbformat_minor": 5
}
