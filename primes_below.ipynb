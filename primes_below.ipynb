{
 "cells": [
  {
   "cell_type": "code",
   "execution_count": 3,
   "id": "8aa3cb5c",
   "metadata": {},
   "outputs": [],
   "source": [
    "def is_prime(x):\n",
    "    prime = []\n",
    "    for num in range(1, x+1):\n",
    "        if x % num ==0:\n",
    "            prime.append(num)\n",
    "    if len(prime) == 2:\n",
    "        return True\n",
    "    else:\n",
    "        return False"
   ]
  },
  {
   "cell_type": "code",
   "execution_count": 8,
   "id": "f705d76f",
   "metadata": {},
   "outputs": [],
   "source": [
    "def primes_below(n):\n",
    "    prime = []\n",
    "    for num in range(1, n):\n",
    "        if is_prime(num) == True:\n",
    "            prime.append(num)\n",
    "    return prime"
   ]
  },
  {
   "cell_type": "code",
   "execution_count": 9,
   "id": "c5db9618",
   "metadata": {},
   "outputs": [
    {
     "data": {
      "text/plain": [
       "[2, 3, 5, 7, 11, 13]"
      ]
     },
     "execution_count": 9,
     "metadata": {},
     "output_type": "execute_result"
    }
   ],
   "source": [
    "primes_below(17)"
   ]
  },
  {
   "cell_type": "code",
   "execution_count": 10,
   "id": "a1cafbf5",
   "metadata": {},
   "outputs": [
    {
     "data": {
      "text/plain": [
       "[2, 3, 5, 7]"
      ]
     },
     "execution_count": 10,
     "metadata": {},
     "output_type": "execute_result"
    }
   ],
   "source": [
    "primes_below(8)"
   ]
  },
  {
   "cell_type": "code",
   "execution_count": 11,
   "id": "c3b02973",
   "metadata": {},
   "outputs": [
    {
     "data": {
      "text/plain": [
       "[]"
      ]
     },
     "execution_count": 11,
     "metadata": {},
     "output_type": "execute_result"
    }
   ],
   "source": [
    "primes_below(2)"
   ]
  },
  {
   "cell_type": "code",
   "execution_count": null,
   "id": "9df3ac45",
   "metadata": {},
   "outputs": [],
   "source": []
  }
 ],
 "metadata": {
  "kernelspec": {
   "display_name": "Python 3 (ipykernel)",
   "language": "python",
   "name": "python3"
  },
  "language_info": {
   "codemirror_mode": {
    "name": "ipython",
    "version": 3
   },
   "file_extension": ".py",
   "mimetype": "text/x-python",
   "name": "python",
   "nbconvert_exporter": "python",
   "pygments_lexer": "ipython3",
   "version": "3.9.6"
  }
 },
 "nbformat": 4,
 "nbformat_minor": 5
}
